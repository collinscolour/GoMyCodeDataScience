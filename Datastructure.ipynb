{
  "nbformat": 4,
  "nbformat_minor": 0,
  "metadata": {
    "colab": {
      "provenance": [],
      "authorship_tag": "ABX9TyMhGUMaVd+DDKuH1pYJsSnc",
      "include_colab_link": true
    },
    "kernelspec": {
      "name": "python3",
      "display_name": "Python 3"
    },
    "language_info": {
      "name": "python"
    }
  },
  "cells": [
    {
      "cell_type": "markdown",
      "metadata": {
        "id": "view-in-github",
        "colab_type": "text"
      },
      "source": [
        "<a href=\"https://colab.research.google.com/github/collinscolour/GoMyCodeDataScience/blob/main/Datastructure.ipynb\" target=\"_parent\"><img src=\"https://colab.research.google.com/assets/colab-badge.svg\" alt=\"Open In Colab\"/></a>"
      ]
    },
    {
      "cell_type": "code",
      "source": [
        "person = ('John', 25, 'male')\n",
        "print(person[0])\n",
        "#person[1]=22\n",
        "print(person[1])\n",
        "\n",
        "grocery_list =[\"milk\", \"bread\", \"eggs\", \"bananas\"]\n",
        "print(grocery_list[0])\n",
        "grocery_list.append( \"chocolate\")\n",
        "print(grocery_list)\n",
        "grocery_list.remove( \"milk\")\n",
        "print(grocery_list)\n",
        "\n",
        "unique_numbers= {1, 2, 3, 4, 5}\n",
        "unique_numbers.add(6)\n",
        "print(unique_numbers)\n",
        "print(len(unique_numbers))\n",
        "unique_numbers.add(1)\n",
        "print(unique_numbers)\n",
        "\n",
        "employee = { \"name\": \"John\",\"age\": 25, \"position\": \"Developer\", \"salary\": 3000}\n",
        "print(employee[\"name\"])\n",
        "employee[\"position\"] = \"manager\"\n",
        "print(employee)\n",
        "employee[\"email\"] =\"john@example.com\"\n",
        "print(employee)\n",
        "\n",
        "\n",
        "\n"
      ],
      "metadata": {
        "colab": {
          "base_uri": "https://localhost:8080/"
        },
        "id": "gY64i-gNTcwi",
        "outputId": "e9763226-ee49-4342-ffce-b68dc7195c97"
      },
      "execution_count": 1,
      "outputs": [
        {
          "output_type": "stream",
          "name": "stdout",
          "text": [
            "John\n",
            "25\n",
            "milk\n",
            "['milk', 'bread', 'eggs', 'bananas', 'chocolate']\n",
            "['bread', 'eggs', 'bananas', 'chocolate']\n",
            "{1, 2, 3, 4, 5, 6}\n",
            "6\n",
            "{1, 2, 3, 4, 5, 6}\n",
            "John\n",
            "{'name': 'John', 'age': 25, 'position': 'manager', 'salary': 3000}\n",
            "{'name': 'John', 'age': 25, 'position': 'manager', 'salary': 3000, 'email': 'john@example.com'}\n"
          ]
        }
      ]
    },
    {
      "cell_type": "code",
      "source": [
        "lis = [78,44,33,22,52,11,19, 93, 26]\n",
        "# current_number = lis[0]\n",
        "# for i in lis:\n",
        "#   if i > current_number:\n",
        "#     current_number  =  i\n",
        "# print(current_number)\n",
        "print(max(lis))"
      ],
      "metadata": {
        "colab": {
          "base_uri": "https://localhost:8080/"
        },
        "id": "S0Ddlb_8kG5Z",
        "outputId": "510a5e96-154a-4b9f-c2c0-e9136691ba06"
      },
      "execution_count": 6,
      "outputs": [
        {
          "output_type": "stream",
          "name": "stdout",
          "text": [
            "93\n"
          ]
        }
      ]
    },
    {
      "cell_type": "code",
      "source": [
        "import random\n",
        "\n",
        "\n",
        "lis =[]\n",
        "for i in range(5):\n",
        "  coin= random.randint(0,1)\n",
        "  if coin == 0:\n",
        "    coin =\"Head\"\n",
        "    lis.append(coin)\n",
        "  else:\n",
        "    coin ='Tails'\n",
        "    lis.append(coin)\n",
        "print(lis)\n",
        "\n"
      ],
      "metadata": {
        "colab": {
          "base_uri": "https://localhost:8080/"
        },
        "id": "nmeP059KKt5-",
        "outputId": "06e13e7a-23ff-4b65-9c4a-0dd088fb9fad"
      },
      "execution_count": 43,
      "outputs": [
        {
          "output_type": "stream",
          "name": "stdout",
          "text": [
            "['Head', 'Tails', 'Tails', 'Tails', 'Head']\n"
          ]
        }
      ]
    }
  ]
}