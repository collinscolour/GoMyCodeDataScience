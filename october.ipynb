{
  "nbformat": 4,
  "nbformat_minor": 0,
  "metadata": {
    "colab": {
      "provenance": [],
      "authorship_tag": "ABX9TyNt6gM9UkKrvjC/VUf875vu",
      "include_colab_link": true
    },
    "kernelspec": {
      "name": "python3",
      "display_name": "Python 3"
    },
    "language_info": {
      "name": "python"
    }
  },
  "cells": [
    {
      "cell_type": "markdown",
      "metadata": {
        "id": "view-in-github",
        "colab_type": "text"
      },
      "source": [
        "<a href=\"https://colab.research.google.com/github/collinscolour/GoMyCodeDataScience/blob/main/october.ipynb\" target=\"_parent\"><img src=\"https://colab.research.google.com/assets/colab-badge.svg\" alt=\"Open In Colab\"/></a>"
      ]
    },
    {
      "cell_type": "code",
      "execution_count": 8,
      "metadata": {
        "colab": {
          "base_uri": "https://localhost:8080/"
        },
        "id": "BIAoSnUTI6EE",
        "outputId": "f25973f8-f887-4450-f586-5970d85241f4"
      },
      "outputs": [
        {
          "output_type": "stream",
          "name": "stdout",
          "text": [
            "a 1\n",
            "b 1\n",
            "b 2\n",
            "c 1\n",
            "c 2\n",
            "a 2\n",
            "b 1\n",
            "b 2\n",
            "c 1\n",
            "c 2\n"
          ]
        }
      ],
      "source": [
        "for i in range(1,3):\n",
        "  print(\"a\",i)\n",
        "  for x in range(1,3):\n",
        "    print(\"b\",x)\n",
        "  for y in range(1,3):\n",
        "    print(\"c\",y)\n",
        "\n",
        "\n",
        "\n",
        "\n",
        "\n",
        "\n",
        "\n",
        "z\n",
        "\n"
      ]
    },
    {
      "cell_type": "code",
      "source": [
        "def x():\n",
        "  for i in range(1,11,2):\n",
        "    print(i)\n",
        "x()"
      ],
      "metadata": {
        "colab": {
          "base_uri": "https://localhost:8080/"
        },
        "id": "dFsGemjVHLpF",
        "outputId": "212e40cf-698d-4441-c771-d39423da58d3"
      },
      "execution_count": 1,
      "outputs": [
        {
          "output_type": "stream",
          "name": "stdout",
          "text": [
            "1\n",
            "3\n",
            "5\n",
            "7\n",
            "9\n"
          ]
        }
      ]
    },
    {
      "cell_type": "code",
      "source": [
        "print('welcome')\n",
        "x= input('what city did you grow up ?')\n",
        "y= input('what the name of your pet ?')\n",
        "i = x + y\n",
        "print (i)\n",
        "print(x + \"\\n\" +y)"
      ],
      "metadata": {
        "colab": {
          "base_uri": "https://localhost:8080/"
        },
        "id": "gz7LnLOPT9CO",
        "outputId": "a5270648-948a-4f0c-fe00-86ae46f7c1a6"
      },
      "execution_count": 8,
      "outputs": [
        {
          "output_type": "stream",
          "name": "stdout",
          "text": [
            "welcome\n",
            "what city did you grow up ?hj\n",
            "what the name of your pet ?jj\n",
            "hjjj\n",
            "hj\n",
            "jj\n"
          ]
        }
      ]
    },
    {
      "cell_type": "code",
      "source": [
        "x= input('ist number ? ')\n",
        "a= int(x[0])\n",
        "b= int(x[1])\n",
        "c= int(x[2])\n",
        "i =  a + b + c\n",
        "print(i)"
      ],
      "metadata": {
        "colab": {
          "base_uri": "https://localhost:8080/"
        },
        "id": "OIX3isaWnCa2",
        "outputId": "994e728c-385d-440d-a8ba-b96c535d8767"
      },
      "execution_count": 15,
      "outputs": [
        {
          "output_type": "stream",
          "name": "stdout",
          "text": [
            "ist number ? 222\n",
            "6\n"
          ]
        }
      ]
    }
  ]
}